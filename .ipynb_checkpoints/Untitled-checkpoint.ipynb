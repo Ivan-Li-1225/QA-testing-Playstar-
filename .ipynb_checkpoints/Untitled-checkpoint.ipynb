{
 "cells": [
  {
   "cell_type": "markdown",
   "id": "35df1b6f-b3ad-44c9-a475-47001af7916e",
   "metadata": {},
   "source": [
    "### Selenium 網頁自動化練習_2 (自動登入/登出帳號_Playstar DEV前台)\n"
   ]
  },
  {
   "cell_type": "code",
   "execution_count": null,
   "id": "d9991c9d-73ff-417d-a94f-7c793cf0029e",
   "metadata": {},
   "outputs": [],
   "source": []
  }
 ],
 "metadata": {
  "kernelspec": {
   "display_name": "Python 3 (ipykernel)",
   "language": "python",
   "name": "python3"
  },
  "language_info": {
   "codemirror_mode": {
    "name": "ipython",
    "version": 3
   },
   "file_extension": ".py",
   "mimetype": "text/x-python",
   "name": "python",
   "nbconvert_exporter": "python",
   "pygments_lexer": "ipython3",
   "version": "3.11.7"
  }
 },
 "nbformat": 4,
 "nbformat_minor": 5
}
