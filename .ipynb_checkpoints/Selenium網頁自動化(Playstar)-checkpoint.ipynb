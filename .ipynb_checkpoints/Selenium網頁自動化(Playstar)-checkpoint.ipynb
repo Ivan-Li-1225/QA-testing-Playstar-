{
 "cells": [
  {
   "cell_type": "markdown",
   "id": "35df1b6f-b3ad-44c9-a475-47001af7916e",
   "metadata": {},
   "source": [
    "### Selenium 網頁自動化練習_2 (自動登入/登出帳號_Playstar DEV前台)\n"
   ]
  },
  {
   "cell_type": "code",
   "execution_count": 96,
   "id": "adde5644-51a5-4778-b44f-150ac1f38358",
   "metadata": {},
   "outputs": [
    {
     "name": "stdout",
     "output_type": "stream",
     "text": [
      "登入成功\n"
     ]
    }
   ],
   "source": [
    "from selenium import webdriver\n",
    "from selenium.webdriver.common.by import By\n",
    "from selenium.webdriver.common.action_chains import ActionChains\n",
    "from selenium.webdriver.common.keys import Keys\n",
    "from selenium.webdriver.support.ui import Select\n",
    "from selenium.webdriver.common.alert import Alert\n",
    "from selenium.webdriver.support.ui import WebDriverWait\n",
    "from selenium.webdriver.support import expected_conditions as EC\n",
    "import time\n",
    "\n",
    "driver = webdriver.Chrome()\n",
    "driver.get(\"https://dev.iplaystar.net/\")   # 進入 DEV前台網頁\n",
    "\n",
    "game_lobby = WebDriverWait(driver, 5).until(\n",
    "    EC.element_to_be_clickable((By.CLASS_NAME, \"card-hover-block\")))\n",
    "game_lobby.click()   # 進入遊戲大廳\n",
    "\n",
    "login_win = WebDriverWait(driver, 5).until(\n",
    "    EC.element_to_be_clickable((By.XPATH, '//*[@id=\"login-form\"]')))   # 進入登入帳號/密碼畫面\n",
    "\n",
    "login_acc = WebDriverWait(driver, 5).until(\n",
    "    EC.element_to_be_clickable((By.XPATH, '//*[@id=\"login-form\"]/div[2]/input')))\n",
    "login_acc.clear()   # 清除帳號欄位資訊\n",
    "\n",
    "login_pass = WebDriverWait(driver, 5).until(\n",
    "    EC.element_to_be_clickable((By.XPATH, '//*[@id=\"login-form\"]/div[3]/input')))   \n",
    "login_pass.clear()  # 清除密碼欄位資訊\n",
    "\n",
    "login_acc.send_keys(\"ivan_li\")      # 輸入帳號\n",
    "login_pass.send_keys(\"@Koe1050259\") # 輸入密碼\n",
    "\n",
    "login = WebDriverWait(driver, 5).until(\n",
    "    EC.element_to_be_clickable((By.XPATH, '//*[@id=\"login-form\"]/div[6]/div[1]/input')))   \n",
    "login.click()         # 點選確認登入\n",
    "print(\"登入成功\")\n",
    "time.sleep(2)\n",
    "\n",
    "setting_icon = driver.find_element(By.XPATH, '/html/body/div[1]/div/div/div[2]/div[2]/i')\n",
    "setting_icon.click()\n",
    "\n",
    "password_ch = WebDriverWait(driver, 5).until(\n",
    "    EC.element_to_be_clickable((By.XPATH, '/html/body/div[1]/div/div/div[2]/div[2]/div/a[1]')))\n",
    "password_ch.click()    # 進入修改密碼選單\n",
    "\n",
    "password_old = WebDriverWait(driver, 5).until(\n",
    "    EC.element_to_be_clickable((By.XPATH, '//*[@id=\"change-pwd-form\"]/div[2]/input')))\n",
    "password_old.send_keys(\"@Koe1050259\")   # 輸入舊密碼\n",
    "\n",
    "password_new = WebDriverWait(driver, 5).until(\n",
    "    EC.element_to_be_clickable((By.XPATH, '//*[@id=\"change-pwd-form\"]/div[3]/input')))\n",
    "password_new.send_keys(\"@Koe1050259@\")  # 輸入新密碼\n",
    "\n",
    "password_new = WebDriverWait(driver, 5).until(\n",
    "    EC.element_to_be_clickable((By.XPATH, '//*[@id=\"change-pwd-form\"]/div[4]/input')))\n",
    "password_new.send_keys(\"@Koe1050259@\")  # 再次輸入新密碼\n",
    "\n",
    "password_chk = WebDriverWait(driver, 5).until(\n",
    "    EC.element_to_be_clickable((By.XPATH, '//*[@id=\"change-pwd-form\"]/div[6]/div[1]/input')))\n",
    "password_chk.click()    # 新密碼變更成功\n",
    "\n",
    "# setting_icon = WebDriverWait(driver, 5).until(\n",
    "#     EC.element_to_be_clickable(By.CLASS_NAME, 'fa fa-cog'))\n",
    "# # setting_icon.click()\n",
    "\n",
    "# logout = WebDriverWait(driver, 5).until(\n",
    "#     EC.element_to_be_clickable((By.XPATH, '/html/body/div[1]/div/div/div[2]/div[2]/div/a[3]')))\n",
    "\n",
    "# logout =  WebDriverWait(driver, 5).until(\n",
    "#     EC.element_to_be_clickable(By.XPATH, '/html/body/div[1]/div/div/div[2]/div[2]/div/a[3]'))\n",
    "# logout.click()       # 點選登出     \n",
    "# # print(\"已登出\")\n",
    "\n",
    "# setting_icon_1 = driver.find_element(By.XPATH, '/html/body/div[1]/div/div/div[2]/div[1]/a')\n",
    "# setting_icon_1.click()"
   ]
  },
  {
   "cell_type": "code",
   "execution_count": null,
   "id": "499eb7ff-f1e5-437f-9c5e-da502cb9f0da",
   "metadata": {},
   "outputs": [],
   "source": []
  }
 ],
 "metadata": {
  "kernelspec": {
   "display_name": "Python 3 (ipykernel)",
   "language": "python",
   "name": "python3"
  },
  "language_info": {
   "codemirror_mode": {
    "name": "ipython",
    "version": 3
   },
   "file_extension": ".py",
   "mimetype": "text/x-python",
   "name": "python",
   "nbconvert_exporter": "python",
   "pygments_lexer": "ipython3",
   "version": "3.11.7"
  }
 },
 "nbformat": 4,
 "nbformat_minor": 5
}
